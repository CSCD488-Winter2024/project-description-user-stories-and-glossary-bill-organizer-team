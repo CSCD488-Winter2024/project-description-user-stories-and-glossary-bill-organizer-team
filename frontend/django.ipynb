{
 "cells": [
  {
   "cell_type": "code",
   "execution_count": null,
   "metadata": {},
   "outputs": [],
   "source": [
    "!pip install django\n",
    "import django\n",
    "print(django.get_version())"
   ]
  }
 ],
 "metadata": {
  "language_info": {
   "name": "python"
  }
 },
 "nbformat": 4,
 "nbformat_minor": 2
}
