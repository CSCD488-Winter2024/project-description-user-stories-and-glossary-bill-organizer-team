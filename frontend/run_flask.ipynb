{
 "cells": [
  {
   "cell_type": "code",
   "execution_count": null,
   "metadata": {},
   "outputs": [],
   "source": [
    "\"\"\"\n",
    "make a new conda enviroment or follow https://flask.palletsprojects.com/en/2.3.x/installation/ instructions \n",
    "for a python virtual environment to keep your flask enviroment separate from other python projects (helps not break things)\n",
    "\"\"\"\n",
    "\n",
    "!pip install Flask\n",
    "!flask --app hello run"
   ]
  }
 ],
 "metadata": {
  "language_info": {
   "name": "python"
  }
 },
 "nbformat": 4,
 "nbformat_minor": 2
}
